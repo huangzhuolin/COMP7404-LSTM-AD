{
 "cells": [
  {
   "cell_type": "code",
   "execution_count": 1,
   "metadata": {},
   "outputs": [],
   "source": [
    "import pandas as pd\n",
    "import numpy as np\n",
    "from sklearn.preprocessing import MinMaxScaler\n",
    "import matplotlib.pyplot as plt\n",
    "import tensorflow as tf\n",
    "import os, copy\n",
    "from scipy.stats import multivariate_normal\n",
    "from sklearn.metrics import precision_score, recall_score"
   ]
  },
  {
   "cell_type": "code",
   "execution_count": 2,
   "metadata": {},
   "outputs": [],
   "source": [
    "df1 = pd.read_csv('TEK16.txt', names=['value'])\n",
    "sc = MinMaxScaler()\n",
    "min_max_array = sc.fit_transform(df1['value'].values.reshape(-1,1))"
   ]
  },
  {
   "cell_type": "code",
   "execution_count": 3,
   "metadata": {},
   "outputs": [],
   "source": [
    "df1.iloc[:,0] = min_max_array"
   ]
  },
  {
   "cell_type": "code",
   "execution_count": 4,
   "metadata": {},
   "outputs": [
    {
     "data": {
      "image/png": "[encoded data removed]",
      "text/plain": [
       "<Figure size 432x288 with 1 Axes>"
      ]
     },
     "metadata": {
      "needs_background": "light"
     },
     "output_type": "display_data"
    }
   ],
   "source": [
    "df1['class'] = 0\n",
    "df1.loc[:700, 'class'] = 1\n",
    "df1.loc[1200: 1400, 'class'] = 1\n",
    "df1.loc[4100: 4400, 'class'] = 1\n",
    "plt.plot(df1)\n",
    "df1.to_csv('TEK16-labeled.csv', index=False)"
   ]
  },
  {
   "cell_type": "code",
   "execution_count": 5,
   "metadata": {},
   "outputs": [],
   "source": [
    "# global variable\n",
    "l = future = 10\n",
    "past = 20"
   ]
  },
  {
   "cell_type": "code",
   "execution_count": 6,
   "metadata": {},
   "outputs": [],
   "source": [
    "def get_l_train(x, l):\n",
    "    '''\n",
    "    Return: np.array of shape (n, l, 1)\n",
    "    >>> x = np.arange(1, 6).reshape((5, 1))\n",
    "    >>> x\n",
    "    array([[1],\n",
    "           [2],\n",
    "           [3],\n",
    "           [4],\n",
    "           [5]])\n",
    "    >>> get_l_test(x, 2)\n",
    "    array([[[2],\n",
    "            [3]],\n",
    "    <BLANKLINE>\n",
    "           [[3],\n",
    "            [4]],\n",
    "    <BLANKLINE>\n",
    "           [[4],\n",
    "            [5]]])\n",
    "    ''' \n",
    "    two_d_arr = np.concatenate([np.roll(x, -i) for i in range(0, l)], axis=1)[:-l+1-future]\n",
    "    \n",
    "    return two_d_arr.reshape((*two_d_arr.shape, 1))\n",
    "\n",
    "def get_l_test(x, l):\n",
    "    '''\n",
    "    Return: np.array of shape (n, l, 1)\n",
    "    >>> x = np.arange(1, 6).reshape((5, 1))\n",
    "    >>> x\n",
    "    array([[1],\n",
    "           [2],\n",
    "           [3],\n",
    "           [4],\n",
    "           [5]])\n",
    "    >>> get_l_test(x, 2)\n",
    "    array([[[2],\n",
    "            [3]],\n",
    "    <BLANKLINE>\n",
    "           [[3],\n",
    "            [4]],\n",
    "    <BLANKLINE>\n",
    "           [[4],\n",
    "            [5]]])\n",
    "    ''' \n",
    "    two_d_arr = np.concatenate([np.roll(x, -i) for i in range(0, l)], axis=1)[past:-l+1]\n",
    "    \n",
    "    return two_d_arr.reshape((*two_d_arr.shape, 1))\n",
    "ts_normal = np.array(df1[2000: 4000]['value'])\n",
    "ts_normal = ts_normal.reshape((ts_normal.shape[0], 1))\n",
    "X_normal = get_l_train(ts_normal, past)\n",
    "y_normal = get_l_test(ts_normal, l)"
   ]
  },
  {
   "cell_type": "code",
   "execution_count": 7,
   "metadata": {},
   "outputs": [
    {
     "data": {
      "text/plain": [
       "(1971, 20, 1)"
      ]
     },
     "execution_count": 7,
     "metadata": {},
     "output_type": "execute_result"
    }
   ],
   "source": [
    "X_normal.shape"
   ]
  },
  {
   "cell_type": "code",
   "execution_count": 8,
   "metadata": {},
   "outputs": [
    {
     "data": {
      "text/plain": [
       "(1971, 10, 1)"
      ]
     },
     "execution_count": 8,
     "metadata": {},
     "output_type": "execute_result"
    }
   ],
   "source": [
    "y_normal.shape"
   ]
  },
  {
   "cell_type": "code",
   "execution_count": 9,
   "metadata": {},
   "outputs": [],
   "source": [
    "ts_anomaly_1 = np.array(df1[4100: 4400]['value']).reshape(-1,1)\n",
    "X_anomaly_1 = get_l_train(ts_anomaly_1, past)\n",
    "y_anomaly_1 = get_l_test(ts_anomaly_1, l)\n",
    "X_anomaly = np.vstack([X_anomaly_1])\n",
    "y_anomaly = np.vstack([y_anomaly_1])"
   ]
  },
  {
   "cell_type": "code",
   "execution_count": 10,
   "metadata": {},
   "outputs": [],
   "source": [
    "X_train_normal, X_vali1_normal, X_vali2_normal = X_normal[:-1], X_normal[:1000], X_normal[1000:]\n",
    "y_train_normal, y_vali1_normal, y_vali2_normal = y_normal[:-1], y_normal[:1000], y_normal[1000:]"
   ]
  },
  {
   "cell_type": "code",
   "execution_count": 11,
   "metadata": {
    "scrolled": true
   },
   "outputs": [
    {
     "name": "stdout",
     "output_type": "stream",
     "text": [
      "Model: \"sequential\"\n",
      "_________________________________________________________________\n",
      "Layer (type)                 Output Shape              Param #   \n",
      "=================================================================\n",
      "lstm (LSTM)                  (None, 20, 35)            5180      \n",
      "_________________________________________________________________\n",
      "lstm_1 (LSTM)                (None, 20, 35)            9940      \n",
      "_________________________________________________________________\n",
      "lstm_2 (LSTM)                (None, 35)                9940      \n",
      "_________________________________________________________________\n",
      "dense (Dense)                (None, 10)                360       \n",
      "=================================================================\n",
      "Total params: 25,420\n",
      "Trainable params: 25,420\n",
      "Non-trainable params: 0\n",
      "_________________________________________________________________\n",
      "Epoch 1/50\n",
      "16/16 - 3s - loss: 0.1033 - val_loss: 0.0274\n",
      "Epoch 2/50\n",
      "16/16 - 1s - loss: 0.0161 - val_loss: 0.0079\n",
      "Epoch 3/50\n",
      "16/16 - 1s - loss: 0.0073 - val_loss: 0.0036\n",
      "Epoch 4/50\n",
      "16/16 - 1s - loss: 0.0033 - val_loss: 0.0025\n",
      "Epoch 5/50\n",
      "16/16 - 1s - loss: 0.0026 - val_loss: 0.0025\n",
      "Epoch 6/50\n",
      "16/16 - 1s - loss: 0.0025 - val_loss: 0.0026\n",
      "Epoch 7/50\n",
      "16/16 - 1s - loss: 0.0026 - val_loss: 0.0028\n",
      "Epoch 8/50\n",
      "16/16 - 1s - loss: 0.0026 - val_loss: 0.0030\n",
      "Epoch 9/50\n",
      "16/16 - 1s - loss: 0.0027 - val_loss: 0.0033\n",
      "Epoch 10/50\n",
      "16/16 - 1s - loss: 0.0028 - val_loss: 0.0035\n",
      "Epoch 11/50\n",
      "16/16 - 1s - loss: 0.0029 - val_loss: 0.0037\n",
      "Epoch 12/50\n",
      "16/16 - 1s - loss: 0.0030 - val_loss: 0.0039\n",
      "Epoch 13/50\n",
      "16/16 - 1s - loss: 0.0030 - val_loss: 0.0040\n",
      "Epoch 14/50\n",
      "16/16 - 1s - loss: 0.0031 - val_loss: 0.0041\n",
      "Epoch 15/50\n",
      "16/16 - 1s - loss: 0.0031 - val_loss: 0.0043\n",
      "Epoch 16/50\n",
      "16/16 - 1s - loss: 0.0032 - val_loss: 0.0044\n",
      "Epoch 17/50\n",
      "16/16 - 1s - loss: 0.0033 - val_loss: 0.0046\n",
      "Epoch 18/50\n",
      "16/16 - 1s - loss: 0.0033 - val_loss: 0.0047\n",
      "Epoch 19/50\n",
      "16/16 - 1s - loss: 0.0034 - val_loss: 0.0047\n",
      "Epoch 20/50\n",
      "16/16 - 1s - loss: 0.0034 - val_loss: 0.0047\n",
      "Epoch 21/50\n",
      "16/16 - 1s - loss: 0.0034 - val_loss: 0.0045\n",
      "Epoch 22/50\n",
      "16/16 - 1s - loss: 0.0033 - val_loss: 0.0043\n",
      "Epoch 23/50\n",
      "16/16 - 1s - loss: 0.0032 - val_loss: 0.0040\n",
      "Epoch 24/50\n",
      "16/16 - 1s - loss: 0.0031 - val_loss: 0.0038\n",
      "Epoch 25/50\n",
      "16/16 - 1s - loss: 0.0030 - val_loss: 0.0035\n",
      "Epoch 26/50\n",
      "16/16 - 1s - loss: 0.0028 - val_loss: 0.0033\n",
      "Epoch 27/50\n",
      "16/16 - 1s - loss: 0.0027 - val_loss: 0.0031\n",
      "Epoch 28/50\n",
      "16/16 - 1s - loss: 0.0026 - val_loss: 0.0030\n",
      "Epoch 29/50\n",
      "16/16 - 1s - loss: 0.0026 - val_loss: 0.0029\n",
      "Epoch 30/50\n",
      "16/16 - 1s - loss: 0.0025 - val_loss: 0.0028\n",
      "Epoch 31/50\n",
      "16/16 - 1s - loss: 0.0025 - val_loss: 0.0028\n",
      "Epoch 32/50\n",
      "16/16 - 1s - loss: 0.0025 - val_loss: 0.0027\n",
      "Epoch 33/50\n",
      "16/16 - 1s - loss: 0.0024 - val_loss: 0.0027\n",
      "Epoch 34/50\n",
      "16/16 - 1s - loss: 0.0024 - val_loss: 0.0027\n",
      "Epoch 35/50\n",
      "16/16 - 1s - loss: 0.0024 - val_loss: 0.0027\n",
      "Epoch 36/50\n",
      "16/16 - 1s - loss: 0.0024 - val_loss: 0.0027\n",
      "Epoch 37/50\n",
      "16/16 - 1s - loss: 0.0024 - val_loss: 0.0028\n",
      "Epoch 38/50\n",
      "16/16 - 1s - loss: 0.0024 - val_loss: 0.0028\n",
      "Epoch 39/50\n",
      "16/16 - 1s - loss: 0.0024 - val_loss: 0.0028\n",
      "Epoch 40/50\n",
      "16/16 - 1s - loss: 0.0025 - val_loss: 0.0029\n",
      "Epoch 41/50\n",
      "16/16 - 1s - loss: 0.0025 - val_loss: 0.0030\n",
      "Epoch 42/50\n",
      "16/16 - 1s - loss: 0.0025 - val_loss: 0.0031\n",
      "Epoch 43/50\n",
      "16/16 - 1s - loss: 0.0026 - val_loss: 0.0031\n",
      "Epoch 44/50\n",
      "16/16 - 1s - loss: 0.0026 - val_loss: 0.0030\n",
      "Epoch 45/50\n",
      "16/16 - 1s - loss: 0.0025 - val_loss: 0.0029\n",
      "Epoch 46/50\n",
      "16/16 - 1s - loss: 0.0025 - val_loss: 0.0029\n",
      "Epoch 47/50\n",
      "16/16 - 1s - loss: 0.0025 - val_loss: 0.0030\n",
      "Epoch 48/50\n",
      "16/16 - 1s - loss: 0.0025 - val_loss: 0.0030\n",
      "Epoch 49/50\n",
      "16/16 - 1s - loss: 0.0025 - val_loss: 0.0030\n",
      "Epoch 50/50\n",
      "16/16 - 1s - loss: 0.0025 - val_loss: 0.0030\n"
     ]
    }
   ],
   "source": [
    "model = tf.keras.Sequential()\n",
    "model.add(tf.keras.layers.LSTM(35, return_sequences=True, input_shape=(past, 1)))\n",
    "model.add(tf.keras.layers.LSTM(35, return_sequences=True))\n",
    "model.add(tf.keras.layers.LSTM(35))\n",
    "model.add(tf.keras.layers.Dense(l))\n",
    "model.compile(loss='mse', optimizer='adam')\n",
    "model.summary()\n",
    "history = model.fit(X_train_normal, \n",
    "                    y_train_normal, \n",
    "                    epochs=50, \n",
    "                    batch_size=128, \n",
    "                    validation_data=(X_vali1_normal, y_vali1_normal), \n",
    "                    verbose=2, \n",
    "                    shuffle=False)"
   ]
  },
  {
   "cell_type": "code",
   "execution_count": 12,
   "metadata": {},
   "outputs": [
    {
     "data": {
      "image/png": "[encoded data removed]",
      "text/plain": [
       "<Figure size 432x288 with 1 Axes>"
      ]
     },
     "metadata": {
      "needs_background": "light"
     },
     "output_type": "display_data"
    }
   ],
   "source": [
    "losses = history.history[\"loss\"]\n",
    "val_losses = history.history[\"val_loss\"]\n",
    "plt.plot(losses,label='training error')\n",
    "plt.plot(val_losses,label='validation error')\n",
    "plt.legend()\n",
    "plt.show()"
   ]
  },
  {
   "cell_type": "code",
   "execution_count": 13,
   "metadata": {},
   "outputs": [],
   "source": [
    "def get_error(y_pred, y_test):\n",
    "    difference = y_test - y_pred\n",
    "    temp = []\n",
    "    for i in range(l):\n",
    "        temp.append(difference[l-1-i:len(difference)-i,i])\n",
    "    return np.vstack(temp).T"
   ]
  },
  {
   "cell_type": "code",
   "execution_count": 14,
   "metadata": {},
   "outputs": [],
   "source": [
    "e_vali1 = get_error(model.predict(X_vali1_normal),y_vali1_normal.reshape(-1,l))"
   ]
  },
  {
   "cell_type": "code",
   "execution_count": 15,
   "metadata": {},
   "outputs": [],
   "source": [
    "# estimate u and sigma\n",
    "u = np.mean(e_vali1,axis = 0)\n",
    "sigma = np.zeros((l, l))\n",
    "for item in e_vali1:\n",
    "    sigma += (item-u.reshape((l,1))) @ (item-u.reshape((l,1))).T\n",
    "sigma /= len(e_vali1)"
   ]
  },
  {
   "cell_type": "code",
   "execution_count": 16,
   "metadata": {},
   "outputs": [],
   "source": [
    "e_vali2 = get_error(model.predict(X_vali2_normal),y_vali2_normal.reshape(-1,l))\n",
    "e_anomaly = get_error(model.predict(X_anomaly),y_anomaly.reshape(-1,l))"
   ]
  },
  {
   "cell_type": "code",
   "execution_count": 17,
   "metadata": {},
   "outputs": [],
   "source": [
    "p_vali2 = multivariate_normal.pdf(x=e_vali2, mean=u, cov=sigma, allow_singular=True)\n",
    "p_anomaly = multivariate_normal.pdf(x=e_anomaly, mean=u, cov=sigma, allow_singular=True)"
   ]
  },
  {
   "cell_type": "code",
   "execution_count": 18,
   "metadata": {},
   "outputs": [],
   "source": [
    "def F_score(precision, recall, beta=0.1):\n",
    "    return (1+beta**2)*precision*recall/((beta**2)*precision + recall)"
   ]
  },
  {
   "cell_type": "code",
   "execution_count": 19,
   "metadata": {
    "scrolled": true
   },
   "outputs": [
    {
     "name": "stderr",
     "output_type": "stream",
     "text": [
      "/Users/huangzhuolin/opt/anaconda3/envs/pikachu/lib/python3.7/site-packages/sklearn/metrics/classification.py:1143: UndefinedMetricWarning: Precision is ill-defined and being set to 0.0 due to no predicted samples.\n",
      "  'precision', 'predicted', average, warn_for)\n",
      "/Users/huangzhuolin/opt/anaconda3/envs/pikachu/lib/python3.7/site-packages/ipykernel_launcher.py:2: RuntimeWarning: invalid value encountered in double_scalars\n",
      "  \n"
     ]
    }
   ],
   "source": [
    "tau_list = [10**(-i) for i in range(-5,40)]\n",
    "max_tau = 0\n",
    "position = None\n",
    "for index, tau in enumerate(tau_list):\n",
    "    prediction = np.hstack([p_vali2 < tau,p_anomaly < tau])\n",
    "    real_tag = np.array([0]*len(p_vali2)+[1]*len(p_anomaly))\n",
    "    precision = precision_score(y_true=real_tag, y_pred=prediction)\n",
    "    recall = recall_score(y_true=real_tag, y_pred=prediction)\n",
    "    f_score = F_score(precision, recall)\n",
    "    if f_score > max_tau:\n",
    "        max_tau, position = f_score, index"
   ]
  },
  {
   "cell_type": "code",
   "execution_count": 20,
   "metadata": {},
   "outputs": [],
   "source": [
    "tau = tau_list[position]"
   ]
  },
  {
   "cell_type": "code",
   "execution_count": 21,
   "metadata": {},
   "outputs": [
    {
     "name": "stdout",
     "output_type": "stream",
     "text": [
      "X_df1 shape:  (4971, 20, 1)\n",
      "Y_df1 shape:  (4971, 10, 1)\n"
     ]
    }
   ],
   "source": [
    "# Probability for the whole 5000 dataset\n",
    "X_df1 = get_l_train(np.array(df1['value']).reshape(-1, 1), past)\n",
    "y_df1 = get_l_test(np.array(df1['value']).reshape(-1, 1), l)\n",
    "print(\"X_df1 shape: \", X_df1.shape)\n",
    "print(\"Y_df1 shape: \", y_df1.shape)"
   ]
  },
  {
   "cell_type": "code",
   "execution_count": 22,
   "metadata": {},
   "outputs": [
    {
     "name": "stdout",
     "output_type": "stream",
     "text": [
      "e_df1 shape: (4962, 10)\n"
     ]
    },
    {
     "data": {
      "text/plain": [
       "[<matplotlib.lines.Line2D at 0x7fbcee0c3b70>]"
      ]
     },
     "execution_count": 22,
     "metadata": {},
     "output_type": "execute_result"
    },
    {
     "data": {
      "image/png": "[encoded data removed]",
      "text/plain": [
       "<Figure size 432x288 with 2 Axes>"
      ]
     },
     "metadata": {
      "needs_background": "light"
     },
     "output_type": "display_data"
    }
   ],
   "source": [
    "e_df1 = get_error(model.predict(X_df1),y_df1.reshape(-1,l))\n",
    "print(\"e_df1 shape:\", e_df1.shape)\n",
    "\n",
    "p_df1 = multivariate_normal.pdf(x=e_df1, mean=u, cov=sigma, allow_singular=True)\n",
    "plt.figure(1)\n",
    "plt.subplot(211)\n",
    "plt.plot(df1['value'])\n",
    "\n",
    "plt.subplot(212)\n",
    "plt.plot(np.log(p_df1))"
   ]
  }
 ],
 "metadata": {
  "kernelspec": {
   "display_name": "Python 3",
   "language": "python",
   "name": "python3"
  },
  "language_info": {
   "codemirror_mode": {
    "name": "ipython",
    "version": 3
   },
   "file_extension": ".py",
   "mimetype": "text/x-python",
   "name": "python",
   "nbconvert_exporter": "python",
   "pygments_lexer": "ipython3",
   "version": "3.7.0"
  }
 },
 "nbformat": 4,
 "nbformat_minor": 4
}
